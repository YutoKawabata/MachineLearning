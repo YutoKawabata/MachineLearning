{
 "cells": [
  {
   "cell_type": "markdown",
   "metadata": {
    "colab_type": "text",
    "id": "xSItPJipBaZ5"
   },
   "source": [
    "## Import Library"
   ]
  },
  {
   "cell_type": "code",
   "execution_count": 1,
   "metadata": {
    "colab": {},
    "colab_type": "code",
    "id": "wb-Z7wNKUJko"
   },
   "outputs": [],
   "source": [
    "import numpy as np\n",
    "import matplotlib.pyplot as plt\n",
    "import pandas as pd\n",
    "import torch\n",
    "import torch.nn as nn\n",
    "from torch.autograd import Variable\n",
    "from sklearn.preprocessing import MinMaxScaler"
   ]
  },
  {
   "cell_type": "markdown",
   "metadata": {
    "colab_type": "text",
    "id": "e31mswiSBEEB"
   },
   "source": [
    "## Data Loading and Plotting"
   ]
  },
  {
   "cell_type": "code",
   "execution_count": 2,
   "metadata": {
    "colab": {
     "base_uri": "https://localhost:8080/",
     "height": 300
    },
    "colab_type": "code",
    "id": "ooQPXSYhA_ps",
    "outputId": "826abb47-6ad2-4618-a69c-ac7c46e3dbdb"
   },
   "outputs": [
    {
     "data": {
      "text/html": [
       "<div>\n",
       "<style scoped>\n",
       "    .dataframe tbody tr th:only-of-type {\n",
       "        vertical-align: middle;\n",
       "    }\n",
       "\n",
       "    .dataframe tbody tr th {\n",
       "        vertical-align: top;\n",
       "    }\n",
       "\n",
       "    .dataframe thead th {\n",
       "        text-align: right;\n",
       "    }\n",
       "</style>\n",
       "<table border=\"1\" class=\"dataframe\">\n",
       "  <thead>\n",
       "    <tr style=\"text-align: right;\">\n",
       "      <th></th>\n",
       "      <th>Jul.Day</th>\n",
       "      <th>CAD/USD</th>\n",
       "      <th>EUR/USD</th>\n",
       "      <th>GBP/USD</th>\n",
       "      <th>JPY/USD</th>\n",
       "      <th>AUD/USD</th>\n",
       "      <th>CNY/USD</th>\n",
       "    </tr>\n",
       "  </thead>\n",
       "  <tbody>\n",
       "    <tr>\n",
       "      <th>count</th>\n",
       "      <td>1.000000e+03</td>\n",
       "      <td>1000.000000</td>\n",
       "      <td>1000.000000</td>\n",
       "      <td>1000.000000</td>\n",
       "      <td>1000.000000</td>\n",
       "      <td>1000.000000</td>\n",
       "      <td>1000.000000</td>\n",
       "    </tr>\n",
       "    <tr>\n",
       "      <th>mean</th>\n",
       "      <td>2.458484e+06</td>\n",
       "      <td>1.315726</td>\n",
       "      <td>0.876246</td>\n",
       "      <td>0.772500</td>\n",
       "      <td>109.585010</td>\n",
       "      <td>1.384095</td>\n",
       "      <td>6.796261</td>\n",
       "    </tr>\n",
       "    <tr>\n",
       "      <th>std</th>\n",
       "      <td>4.219961e+02</td>\n",
       "      <td>0.038004</td>\n",
       "      <td>0.034728</td>\n",
       "      <td>0.027389</td>\n",
       "      <td>2.755661</td>\n",
       "      <td>0.084416</td>\n",
       "      <td>0.222525</td>\n",
       "    </tr>\n",
       "    <tr>\n",
       "      <th>min</th>\n",
       "      <td>2.457757e+06</td>\n",
       "      <td>1.212800</td>\n",
       "      <td>0.800860</td>\n",
       "      <td>0.698140</td>\n",
       "      <td>102.240000</td>\n",
       "      <td>1.234100</td>\n",
       "      <td>6.269900</td>\n",
       "    </tr>\n",
       "    <tr>\n",
       "      <th>25%</th>\n",
       "      <td>2.458122e+06</td>\n",
       "      <td>1.294700</td>\n",
       "      <td>0.849403</td>\n",
       "      <td>0.758018</td>\n",
       "      <td>107.560000</td>\n",
       "      <td>1.318375</td>\n",
       "      <td>6.651875</td>\n",
       "    </tr>\n",
       "    <tr>\n",
       "      <th>50%</th>\n",
       "      <td>2.458486e+06</td>\n",
       "      <td>1.317800</td>\n",
       "      <td>0.879425</td>\n",
       "      <td>0.771805</td>\n",
       "      <td>109.620000</td>\n",
       "      <td>1.383550</td>\n",
       "      <td>6.858350</td>\n",
       "    </tr>\n",
       "    <tr>\n",
       "      <th>75%</th>\n",
       "      <td>2.458851e+06</td>\n",
       "      <td>1.335150</td>\n",
       "      <td>0.900413</td>\n",
       "      <td>0.790590</td>\n",
       "      <td>111.652500</td>\n",
       "      <td>1.437825</td>\n",
       "      <td>6.945175</td>\n",
       "    </tr>\n",
       "    <tr>\n",
       "      <th>max</th>\n",
       "      <td>2.459215e+06</td>\n",
       "      <td>1.449600</td>\n",
       "      <td>0.960130</td>\n",
       "      <td>0.865480</td>\n",
       "      <td>117.670000</td>\n",
       "      <td>1.725300</td>\n",
       "      <td>7.177500</td>\n",
       "    </tr>\n",
       "  </tbody>\n",
       "</table>\n",
       "</div>"
      ],
      "text/plain": [
       "            Jul.Day      CAD/USD      EUR/USD      GBP/USD      JPY/USD  \\\n",
       "count  1.000000e+03  1000.000000  1000.000000  1000.000000  1000.000000   \n",
       "mean   2.458484e+06     1.315726     0.876246     0.772500   109.585010   \n",
       "std    4.219961e+02     0.038004     0.034728     0.027389     2.755661   \n",
       "min    2.457757e+06     1.212800     0.800860     0.698140   102.240000   \n",
       "25%    2.458122e+06     1.294700     0.849403     0.758018   107.560000   \n",
       "50%    2.458486e+06     1.317800     0.879425     0.771805   109.620000   \n",
       "75%    2.458851e+06     1.335150     0.900413     0.790590   111.652500   \n",
       "max    2.459215e+06     1.449600     0.960130     0.865480   117.670000   \n",
       "\n",
       "           AUD/USD      CNY/USD  \n",
       "count  1000.000000  1000.000000  \n",
       "mean      1.384095     6.796261  \n",
       "std       0.084416     0.222525  \n",
       "min       1.234100     6.269900  \n",
       "25%       1.318375     6.651875  \n",
       "50%       1.383550     6.858350  \n",
       "75%       1.437825     6.945175  \n",
       "max       1.725300     7.177500  "
      ]
     },
     "execution_count": 2,
     "metadata": {},
     "output_type": "execute_result"
    }
   ],
   "source": [
    "#training_set = pd.read_csv('nikkei_stock_average_daily_jp.csv', encoding=\"shift-jis\")\n",
    "training_set = pd.read_csv('currency_data.csv')\n",
    "\n",
    "training_set.describe()"
   ]
  },
  {
   "cell_type": "code",
   "execution_count": 3,
   "metadata": {
    "colab": {
     "base_uri": "https://localhost:8080/",
     "height": 146
    },
    "colab_type": "code",
    "id": "zA_rfj21EqTZ",
    "outputId": "49581d98-2c5a-4582-a755-2241254e00f9"
   },
   "outputs": [
    {
     "name": "stdout",
     "output_type": "stream",
     "text": [
      "<class 'pandas.core.frame.DataFrame'>\n",
      "RangeIndex: 1000 entries, 0 to 999\n",
      "Data columns (total 9 columns):\n",
      " #   Column      Non-Null Count  Dtype  \n",
      "---  ------      --------------  -----  \n",
      " 0   Jul.Day     1000 non-null   int64  \n",
      " 1   YYYY/MM/DD  1000 non-null   object \n",
      " 2   Wdy         1000 non-null   object \n",
      " 3   CAD/USD     1000 non-null   float64\n",
      " 4   EUR/USD     1000 non-null   float64\n",
      " 5   GBP/USD     1000 non-null   float64\n",
      " 6   JPY/USD     1000 non-null   float64\n",
      " 7   AUD/USD     1000 non-null   float64\n",
      " 8   CNY/USD     1000 non-null   float64\n",
      "dtypes: float64(6), int64(1), object(2)\n",
      "memory usage: 70.4+ KB\n"
     ]
    }
   ],
   "source": [
    "training_set.info()"
   ]
  },
  {
   "cell_type": "code",
   "execution_count": 4,
   "metadata": {
    "colab": {
     "base_uri": "https://localhost:8080/",
     "height": 206
    },
    "colab_type": "code",
    "id": "vEKw_sbCEqcM",
    "outputId": "a8ba4933-2c8e-423c-9ea0-5fc536f53831"
   },
   "outputs": [
    {
     "data": {
      "text/html": [
       "<div>\n",
       "<style scoped>\n",
       "    .dataframe tbody tr th:only-of-type {\n",
       "        vertical-align: middle;\n",
       "    }\n",
       "\n",
       "    .dataframe tbody tr th {\n",
       "        vertical-align: top;\n",
       "    }\n",
       "\n",
       "    .dataframe thead th {\n",
       "        text-align: right;\n",
       "    }\n",
       "</style>\n",
       "<table border=\"1\" class=\"dataframe\">\n",
       "  <thead>\n",
       "    <tr style=\"text-align: right;\">\n",
       "      <th></th>\n",
       "      <th>Jul.Day</th>\n",
       "      <th>YYYY/MM/DD</th>\n",
       "      <th>Wdy</th>\n",
       "      <th>CAD/USD</th>\n",
       "      <th>EUR/USD</th>\n",
       "      <th>GBP/USD</th>\n",
       "      <th>JPY/USD</th>\n",
       "      <th>AUD/USD</th>\n",
       "      <th>CNY/USD</th>\n",
       "    </tr>\n",
       "  </thead>\n",
       "  <tbody>\n",
       "    <tr>\n",
       "      <th>0</th>\n",
       "      <td>2457757</td>\n",
       "      <td>2017/01/03</td>\n",
       "      <td>Tue</td>\n",
       "      <td>1.3438</td>\n",
       "      <td>0.96013</td>\n",
       "      <td>0.81596</td>\n",
       "      <td>117.67</td>\n",
       "      <td>1.3831</td>\n",
       "      <td>6.9627</td>\n",
       "    </tr>\n",
       "    <tr>\n",
       "      <th>1</th>\n",
       "      <td>2457758</td>\n",
       "      <td>2017/01/04</td>\n",
       "      <td>Wed</td>\n",
       "      <td>1.3293</td>\n",
       "      <td>0.95461</td>\n",
       "      <td>0.81328</td>\n",
       "      <td>117.43</td>\n",
       "      <td>1.3755</td>\n",
       "      <td>6.9343</td>\n",
       "    </tr>\n",
       "    <tr>\n",
       "      <th>2</th>\n",
       "      <td>2457759</td>\n",
       "      <td>2017/01/05</td>\n",
       "      <td>Thu</td>\n",
       "      <td>1.3216</td>\n",
       "      <td>0.94353</td>\n",
       "      <td>0.80566</td>\n",
       "      <td>115.42</td>\n",
       "      <td>1.3637</td>\n",
       "      <td>6.8905</td>\n",
       "    </tr>\n",
       "    <tr>\n",
       "      <th>3</th>\n",
       "      <td>2457760</td>\n",
       "      <td>2017/01/06</td>\n",
       "      <td>Fri</td>\n",
       "      <td>1.3216</td>\n",
       "      <td>0.94704</td>\n",
       "      <td>0.81214</td>\n",
       "      <td>116.85</td>\n",
       "      <td>1.3692</td>\n",
       "      <td>6.9194</td>\n",
       "    </tr>\n",
       "    <tr>\n",
       "      <th>4</th>\n",
       "      <td>2457763</td>\n",
       "      <td>2017/01/09</td>\n",
       "      <td>Mon</td>\n",
       "      <td>1.3222</td>\n",
       "      <td>0.94558</td>\n",
       "      <td>0.82201</td>\n",
       "      <td>116.08</td>\n",
       "      <td>1.3582</td>\n",
       "      <td>6.9370</td>\n",
       "    </tr>\n",
       "  </tbody>\n",
       "</table>\n",
       "</div>"
      ],
      "text/plain": [
       "   Jul.Day  YYYY/MM/DD  Wdy  CAD/USD  EUR/USD  GBP/USD  JPY/USD  AUD/USD  \\\n",
       "0  2457757  2017/01/03  Tue   1.3438  0.96013  0.81596   117.67   1.3831   \n",
       "1  2457758  2017/01/04  Wed   1.3293  0.95461  0.81328   117.43   1.3755   \n",
       "2  2457759  2017/01/05  Thu   1.3216  0.94353  0.80566   115.42   1.3637   \n",
       "3  2457760  2017/01/06  Fri   1.3216  0.94704  0.81214   116.85   1.3692   \n",
       "4  2457763  2017/01/09  Mon   1.3222  0.94558  0.82201   116.08   1.3582   \n",
       "\n",
       "   CNY/USD  \n",
       "0   6.9627  \n",
       "1   6.9343  \n",
       "2   6.8905  \n",
       "3   6.9194  \n",
       "4   6.9370  "
      ]
     },
     "execution_count": 4,
     "metadata": {},
     "output_type": "execute_result"
    }
   ],
   "source": [
    "training_set.head()"
   ]
  },
  {
   "cell_type": "code",
   "execution_count": 5,
   "metadata": {
    "colab": {
     "base_uri": "https://localhost:8080/",
     "height": 265
    },
    "colab_type": "code",
    "id": "uAYTwR62EfKi",
    "outputId": "96404581-e7b9-40c4-ae16-727a4096096c"
   },
   "outputs": [
    {
     "name": "stdout",
     "output_type": "stream",
     "text": [
      "[[  1.3438    0.96013   0.81596 117.67      1.3831    6.9627 ]\n",
      " [  1.3293    0.95461   0.81328 117.43      1.3755    6.9343 ]\n",
      " [  1.3216    0.94353   0.80566 115.42      1.3637    6.8905 ]\n",
      " ...\n",
      " [  1.2806    0.81629   0.74092 103.61      1.3137    6.5303 ]\n",
      " [  1.2769    0.81378   0.73499 103.23      1.3026    6.5248 ]\n",
      " [  1.2732    0.81573   0.73252 103.09      1.2946    6.5326 ]]\n"
     ]
    },
    {
     "data": {
      "image/png": "[encoded data removed]",
      "text/plain": [
       "<Figure size 432x288 with 1 Axes>"
      ]
     },
     "metadata": {
      "needs_background": "light"
     },
     "output_type": "display_data"
    }
   ],
   "source": [
    "training_set = training_set.iloc[:,3:9].values\n",
    "print(training_set)\n",
    "plt.plot(training_set, label = 'Data')\n",
    "plt.show()"
   ]
  },
  {
   "cell_type": "markdown",
   "metadata": {
    "colab_type": "text",
    "id": "NabsV8O5BBd5"
   },
   "source": [
    "## Dataloading"
   ]
  },
  {
   "cell_type": "code",
   "execution_count": 6,
   "metadata": {
    "colab": {},
    "colab_type": "code",
    "id": "vIWvJCpOVmwU"
   },
   "outputs": [],
   "source": [
    "def scaling_window(data, seq_length):\n",
    "    x = []\n",
    "    y = []\n",
    "\n",
    "    for i in range(len(data)-seq_length-1):\n",
    "        _x = data[i:(i+seq_length)]\n",
    "        _y = data[i+seq_length][3]\n",
    "        x.append(_x)\n",
    "        y.append(_y)\n",
    "\n",
    "    return np.array(x),np.array(y)\n",
    "\n",
    "def inverse_transform(x, max_value, min_value):\n",
    "    x = x*(max_value - min_value) + min_value\n",
    "    return x\n",
    "    \n",
    "sc = MinMaxScaler()\n",
    "training_data = sc.fit_transform(training_set)\n",
    "\n",
    "dataY_max = training_set[:, 3].max()\n",
    "dataY_min = training_set[:, 3].min()\n",
    "\n",
    "seq_length = 10\n",
    "x, y = scaling_window(training_data, seq_length)\n",
    "\n",
    "train_size = int(len(y) * 0.67)\n",
    "test_size = len(y) - train_size\n",
    "\n",
    "dataX = Variable(torch.Tensor(np.array(x)))\n",
    "dataY = Variable(torch.Tensor(np.array(y)).view(-1,1))\n",
    "\n",
    "trainX = Variable(torch.Tensor(np.array(x[0:train_size])))\n",
    "trainY = Variable(torch.Tensor(np.array(y[0:train_size])).view(-1, 1))\n",
    "\n",
    "testX = Variable(torch.Tensor(np.array(x[train_size:len(x)])))\n",
    "testY = Variable(torch.Tensor(np.array(y[train_size:len(y)])).view(-1, 1))"
   ]
  },
  {
   "cell_type": "markdown",
   "metadata": {
    "colab_type": "text",
    "id": "--1LVbHOBSIy"
   },
   "source": [
    "## Model"
   ]
  },
  {
   "cell_type": "code",
   "execution_count": 7,
   "metadata": {
    "colab": {},
    "colab_type": "code",
    "id": "_BcDEjcABRVz"
   },
   "outputs": [],
   "source": [
    "class LSTM(nn.Module):\n",
    "\n",
    "    def __init__(self, num_classes, input_size, hidden_size, num_layers):\n",
    "        super(LSTM, self).__init__()\n",
    "        \n",
    "        self.num_classes = num_classes\n",
    "        self.num_layers = num_layers\n",
    "        self.input_size = input_size\n",
    "        self.hidden_size = hidden_size\n",
    "        self.seq_length = seq_length\n",
    "        \n",
    "        self.fc1 = nn.Linear(input_size, num_classes)\n",
    "        self.lstm = nn.LSTM(input_size=1, hidden_size=hidden_size,\n",
    "                            num_layers=num_layers, batch_first=True)\n",
    "        \n",
    "        self.fc2 = nn.Linear(hidden_size, num_classes)\n",
    "\n",
    "    def forward(self, x):\n",
    "        h_0 = Variable(torch.zeros(\n",
    "            self.num_layers, x.size(0), self.hidden_size))\n",
    "        c_0 = Variable(torch.zeros(\n",
    "            self.num_layers, x.size(0), self.hidden_size))\n",
    "        \n",
    "        # Propagate input through LSTM\n",
    "        x_1 = self.fc1(x)\n",
    "        ula, (h_out, _) = self.lstm(x_1, (h_0, c_0))\n",
    "        h_out = h_out.view(-1, self.hidden_size)\n",
    "        out = self.fc2(h_out)\n",
    "        \n",
    "        return out"
   ]
  },
  {
   "cell_type": "markdown",
   "metadata": {
    "colab_type": "text",
    "id": "tdzFI5GJBUF5"
   },
   "source": [
    "## Training"
   ]
  },
  {
   "cell_type": "code",
   "execution_count": 8,
   "metadata": {
    "colab": {
     "base_uri": "https://localhost:8080/",
     "height": 384
    },
    "colab_type": "code",
    "id": "a2vvHeFgVtCp",
    "outputId": "d476d0d4-5137-4a81-875b-681a20d8399d"
   },
   "outputs": [
    {
     "name": "stdout",
     "output_type": "stream",
     "text": [
      "Epoch: 100, loss: 0.01512\n",
      "Epoch: 200, loss: 0.00164\n",
      "Epoch: 300, loss: 0.00101\n",
      "Epoch: 400, loss: 0.00090\n",
      "Epoch: 500, loss: 0.00085\n",
      "Epoch: 600, loss: 0.00083\n",
      "Epoch: 700, loss: 0.00083\n",
      "Epoch: 800, loss: 0.00083\n",
      "Epoch: 900, loss: 0.00083\n",
      "Epoch: 1000, loss: 0.00083\n",
      "Epoch: 1100, loss: 0.00083\n",
      "Epoch: 1200, loss: 0.00083\n",
      "Epoch: 1300, loss: 0.00083\n",
      "Epoch: 1400, loss: 0.00083\n",
      "Epoch: 1500, loss: 0.00083\n",
      "Epoch: 1600, loss: 0.00083\n",
      "Epoch: 1700, loss: 0.00083\n",
      "Epoch: 1800, loss: 0.00083\n",
      "Epoch: 1900, loss: 0.00083\n",
      "Epoch: 2000, loss: 0.00083\n"
     ]
    }
   ],
   "source": [
    "# Parameter setting \n",
    "num_epochs = 2000\n",
    "p_interval = num_epochs / 20\n",
    "learning_rate = 0.01\n",
    "\n",
    "input_size = 6\n",
    "hidden_size = 16\n",
    "num_layers = 1\n",
    "\n",
    "num_classes = 1\n",
    "\n",
    "lstm = LSTM(num_classes, input_size, hidden_size, num_layers)\n",
    "\n",
    "criterion = torch.nn.MSELoss()    # mean-squared error for regression\n",
    "optimizer = torch.optim.Adam(lstm.parameters(), lr=learning_rate)\n",
    "#optimizer = torch.optim.SGD(lstm.parameters(), lr=learning_rate)\n",
    "\n",
    "# Train the model\n",
    "for epoch in range(num_epochs):\n",
    "    outputs = lstm(trainX)\n",
    "    optimizer.zero_grad()\n",
    "    # obtain the loss function\n",
    "    loss = criterion(outputs, trainY)\n",
    "    \n",
    "    loss.backward()\n",
    "    \n",
    "    optimizer.step()\n",
    "    if (epoch + 1) % p_interval == 0:\n",
    "      print(\"Epoch: %d, loss: %1.5f\" % (epoch+1, loss.item()))"
   ]
  },
  {
   "cell_type": "markdown",
   "metadata": {
    "colab_type": "text",
    "id": "GyJ-Ry9_BWvP"
   },
   "source": [
    "## Testing for Currency (6 pairs)  Dataset"
   ]
  },
  {
   "cell_type": "code",
   "execution_count": 9,
   "metadata": {
    "colab": {
     "base_uri": "https://localhost:8080/",
     "height": 294
    },
    "colab_type": "code",
    "id": "jFrPVG5sesWY",
    "outputId": "83cd909c-f5aa-41ad-836e-0b91f698a550"
   },
   "outputs": [
    {
     "data": {
      "image/png": "[encoded data removed]",
      "text/plain": [
       "<Figure size 432x288 with 1 Axes>"
      ]
     },
     "metadata": {
      "needs_background": "light"
     },
     "output_type": "display_data"
    }
   ],
   "source": [
    "lstm.eval()\n",
    "train_predict = lstm(dataX)\n",
    "\n",
    "data_predict = train_predict.data.numpy()\n",
    "dataY_plot = dataY.data.numpy()\n",
    "\n",
    "data_predict = inverse_transform(data_predict, dataY_max, dataY_min)\n",
    "dataY_plot   = inverse_transform(dataY_plot, dataY_max, dataY_min)\n",
    "\n",
    "plt.axvline(x=train_size, c='r', linestyle='--')\n",
    "\n",
    "plt.plot(dataY_plot)\n",
    "plt.plot(data_predict)\n",
    "plt.suptitle('Time-Series Prediction')\n",
    "plt.show()"
   ]
  },
  {
   "cell_type": "code",
   "execution_count": null,
   "metadata": {},
   "outputs": [],
   "source": []
  }
 ],
 "metadata": {
  "accelerator": "GPU",
  "colab": {
   "name": "Time Series Prediction with LSTM Using PyTorch",
   "provenance": [],
   "toc_visible": true
  },
  "kernelspec": {
   "display_name": "Python 3 (ipykernel)",
   "language": "python",
   "name": "python3"
  },
  "language_info": {
   "codemirror_mode": {
    "name": "ipython",
    "version": 3
   },
   "file_extension": ".py",
   "mimetype": "text/x-python",
   "name": "python",
   "nbconvert_exporter": "python",
   "pygments_lexer": "ipython3",
   "version": "3.9.7"
  }
 },
 "nbformat": 4,
 "nbformat_minor": 1
}
