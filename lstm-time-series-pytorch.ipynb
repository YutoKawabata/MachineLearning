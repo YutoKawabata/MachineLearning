{
  "nbformat": 4,
  "nbformat_minor": 0,
  "metadata": {
    "accelerator": "GPU",
    "colab": {
      "name": "lstm-time-series-pytorch.ipynb",
      "provenance": [],
      "toc_visible": true
    },
    "kernelspec": {
      "display_name": "Python 3 (ipykernel)",
      "language": "python",
      "name": "python3"
    },
    "language_info": {
      "codemirror_mode": {
        "name": "ipython",
        "version": 3
      },
      "file_extension": ".py",
      "mimetype": "text/x-python",
      "name": "python",
      "nbconvert_exporter": "python",
      "pygments_lexer": "ipython3",
      "version": "3.9.7"
    }
  },
  "cells": [
    {
      "cell_type": "markdown",
      "metadata": {
        "id": "xSItPJipBaZ5"
      },
      "source": [
        "## Import Library"
      ]
    },
    {
      "cell_type": "code",
      "metadata": {
        "id": "wb-Z7wNKUJko"
      },
      "source": [
        "import numpy as np\n",
        "import matplotlib.pyplot as plt\n",
        "import pandas as pd\n",
        "import torch\n",
        "import torch.nn as nn\n",
        "from torch.autograd import Variable\n",
        "from sklearn.preprocessing import MinMaxScaler"
      ],
      "execution_count": 1,
      "outputs": []
    },
    {
      "cell_type": "markdown",
      "metadata": {
        "id": "e31mswiSBEEB"
      },
      "source": [
        "## Data Loading and Plotting"
      ]
    },
    {
      "cell_type": "code",
      "metadata": {
        "colab": {
          "base_uri": "https://localhost:8080/",
          "height": 320
        },
        "id": "ooQPXSYhA_ps",
        "outputId": "a9a4534b-8de5-4f0a-c1a4-89025fbae319"
      },
      "source": [
        "#training_set = pd.read_csv('nikkei_stock_average_daily_jp.csv', encoding=\"shift-jis\")\n",
        "training_set = pd.read_csv('currency_data.csv')\n",
        "\n",
        "training_set.describe()"
      ],
      "execution_count": 2,
      "outputs": [
        {
          "output_type": "execute_result",
          "data": {
            "text/html": [
              "<div>\n",
              "<style scoped>\n",
              "    .dataframe tbody tr th:only-of-type {\n",
              "        vertical-align: middle;\n",
              "    }\n",
              "\n",
              "    .dataframe tbody tr th {\n",
              "        vertical-align: top;\n",
              "    }\n",
              "\n",
              "    .dataframe thead th {\n",
              "        text-align: right;\n",
              "    }\n",
              "</style>\n",
              "<table border=\"1\" class=\"dataframe\">\n",
              "  <thead>\n",
              "    <tr style=\"text-align: right;\">\n",
              "      <th></th>\n",
              "      <th>Jul.Day</th>\n",
              "      <th>CAD/USD</th>\n",
              "      <th>EUR/USD</th>\n",
              "      <th>GBP/USD</th>\n",
              "      <th>JPY/USD</th>\n",
              "      <th>AUD/USD</th>\n",
              "      <th>CNY/USD</th>\n",
              "    </tr>\n",
              "  </thead>\n",
              "  <tbody>\n",
              "    <tr>\n",
              "      <th>count</th>\n",
              "      <td>1.000000e+03</td>\n",
              "      <td>1000.000000</td>\n",
              "      <td>1000.000000</td>\n",
              "      <td>1000.000000</td>\n",
              "      <td>1000.000000</td>\n",
              "      <td>1000.000000</td>\n",
              "      <td>1000.000000</td>\n",
              "    </tr>\n",
              "    <tr>\n",
              "      <th>mean</th>\n",
              "      <td>2.458484e+06</td>\n",
              "      <td>1.315726</td>\n",
              "      <td>0.876246</td>\n",
              "      <td>0.772500</td>\n",
              "      <td>109.585010</td>\n",
              "      <td>1.384095</td>\n",
              "      <td>6.796261</td>\n",
              "    </tr>\n",
              "    <tr>\n",
              "      <th>std</th>\n",
              "      <td>4.219961e+02</td>\n",
              "      <td>0.038004</td>\n",
              "      <td>0.034728</td>\n",
              "      <td>0.027389</td>\n",
              "      <td>2.755661</td>\n",
              "      <td>0.084416</td>\n",
              "      <td>0.222525</td>\n",
              "    </tr>\n",
              "    <tr>\n",
              "      <th>min</th>\n",
              "      <td>2.457757e+06</td>\n",
              "      <td>1.212800</td>\n",
              "      <td>0.800860</td>\n",
              "      <td>0.698140</td>\n",
              "      <td>102.240000</td>\n",
              "      <td>1.234100</td>\n",
              "      <td>6.269900</td>\n",
              "    </tr>\n",
              "    <tr>\n",
              "      <th>25%</th>\n",
              "      <td>2.458122e+06</td>\n",
              "      <td>1.294700</td>\n",
              "      <td>0.849402</td>\n",
              "      <td>0.758018</td>\n",
              "      <td>107.560000</td>\n",
              "      <td>1.318375</td>\n",
              "      <td>6.651875</td>\n",
              "    </tr>\n",
              "    <tr>\n",
              "      <th>50%</th>\n",
              "      <td>2.458486e+06</td>\n",
              "      <td>1.317800</td>\n",
              "      <td>0.879425</td>\n",
              "      <td>0.771805</td>\n",
              "      <td>109.620000</td>\n",
              "      <td>1.383550</td>\n",
              "      <td>6.858350</td>\n",
              "    </tr>\n",
              "    <tr>\n",
              "      <th>75%</th>\n",
              "      <td>2.458851e+06</td>\n",
              "      <td>1.335150</td>\n",
              "      <td>0.900412</td>\n",
              "      <td>0.790590</td>\n",
              "      <td>111.652500</td>\n",
              "      <td>1.437825</td>\n",
              "      <td>6.945175</td>\n",
              "    </tr>\n",
              "    <tr>\n",
              "      <th>max</th>\n",
              "      <td>2.459215e+06</td>\n",
              "      <td>1.449600</td>\n",
              "      <td>0.960130</td>\n",
              "      <td>0.865480</td>\n",
              "      <td>117.670000</td>\n",
              "      <td>1.725300</td>\n",
              "      <td>7.177500</td>\n",
              "    </tr>\n",
              "  </tbody>\n",
              "</table>\n",
              "</div>"
            ],
            "text/plain": [
              "            Jul.Day      CAD/USD  ...      AUD/USD      CNY/USD\n",
              "count  1.000000e+03  1000.000000  ...  1000.000000  1000.000000\n",
              "mean   2.458484e+06     1.315726  ...     1.384095     6.796261\n",
              "std    4.219961e+02     0.038004  ...     0.084416     0.222525\n",
              "min    2.457757e+06     1.212800  ...     1.234100     6.269900\n",
              "25%    2.458122e+06     1.294700  ...     1.318375     6.651875\n",
              "50%    2.458486e+06     1.317800  ...     1.383550     6.858350\n",
              "75%    2.458851e+06     1.335150  ...     1.437825     6.945175\n",
              "max    2.459215e+06     1.449600  ...     1.725300     7.177500\n",
              "\n",
              "[8 rows x 7 columns]"
            ]
          },
          "metadata": {},
          "execution_count": 2
        }
      ]
    },
    {
      "cell_type": "code",
      "metadata": {
        "colab": {
          "base_uri": "https://localhost:8080/"
        },
        "id": "zA_rfj21EqTZ",
        "outputId": "4f2dc7d7-9f91-4a56-a476-12d7f1bafecc"
      },
      "source": [
        "training_set.info()"
      ],
      "execution_count": 3,
      "outputs": [
        {
          "output_type": "stream",
          "name": "stdout",
          "text": [
            "<class 'pandas.core.frame.DataFrame'>\n",
            "RangeIndex: 1000 entries, 0 to 999\n",
            "Data columns (total 9 columns):\n",
            " #   Column      Non-Null Count  Dtype  \n",
            "---  ------      --------------  -----  \n",
            " 0   Jul.Day     1000 non-null   int64  \n",
            " 1   YYYY/MM/DD  1000 non-null   object \n",
            " 2   Wdy         1000 non-null   object \n",
            " 3   CAD/USD     1000 non-null   float64\n",
            " 4   EUR/USD     1000 non-null   float64\n",
            " 5   GBP/USD     1000 non-null   float64\n",
            " 6   JPY/USD     1000 non-null   float64\n",
            " 7   AUD/USD     1000 non-null   float64\n",
            " 8   CNY/USD     1000 non-null   float64\n",
            "dtypes: float64(6), int64(1), object(2)\n",
            "memory usage: 70.4+ KB\n"
          ]
        }
      ]
    },
    {
      "cell_type": "code",
      "metadata": {
        "colab": {
          "base_uri": "https://localhost:8080/",
          "height": 206
        },
        "id": "vEKw_sbCEqcM",
        "outputId": "978eb30e-e2bf-4b23-8011-5f54215ad1c1"
      },
      "source": [
        "training_set.head()"
      ],
      "execution_count": 4,
      "outputs": [
        {
          "output_type": "execute_result",
          "data": {
            "text/html": [
              "<div>\n",
              "<style scoped>\n",
              "    .dataframe tbody tr th:only-of-type {\n",
              "        vertical-align: middle;\n",
              "    }\n",
              "\n",
              "    .dataframe tbody tr th {\n",
              "        vertical-align: top;\n",
              "    }\n",
              "\n",
              "    .dataframe thead th {\n",
              "        text-align: right;\n",
              "    }\n",
              "</style>\n",
              "<table border=\"1\" class=\"dataframe\">\n",
              "  <thead>\n",
              "    <tr style=\"text-align: right;\">\n",
              "      <th></th>\n",
              "      <th>Jul.Day</th>\n",
              "      <th>YYYY/MM/DD</th>\n",
              "      <th>Wdy</th>\n",
              "      <th>CAD/USD</th>\n",
              "      <th>EUR/USD</th>\n",
              "      <th>GBP/USD</th>\n",
              "      <th>JPY/USD</th>\n",
              "      <th>AUD/USD</th>\n",
              "      <th>CNY/USD</th>\n",
              "    </tr>\n",
              "  </thead>\n",
              "  <tbody>\n",
              "    <tr>\n",
              "      <th>0</th>\n",
              "      <td>2457757</td>\n",
              "      <td>2017/01/03</td>\n",
              "      <td>Tue</td>\n",
              "      <td>1.3438</td>\n",
              "      <td>0.96013</td>\n",
              "      <td>0.81596</td>\n",
              "      <td>117.67</td>\n",
              "      <td>1.3831</td>\n",
              "      <td>6.9627</td>\n",
              "    </tr>\n",
              "    <tr>\n",
              "      <th>1</th>\n",
              "      <td>2457758</td>\n",
              "      <td>2017/01/04</td>\n",
              "      <td>Wed</td>\n",
              "      <td>1.3293</td>\n",
              "      <td>0.95461</td>\n",
              "      <td>0.81328</td>\n",
              "      <td>117.43</td>\n",
              "      <td>1.3755</td>\n",
              "      <td>6.9343</td>\n",
              "    </tr>\n",
              "    <tr>\n",
              "      <th>2</th>\n",
              "      <td>2457759</td>\n",
              "      <td>2017/01/05</td>\n",
              "      <td>Thu</td>\n",
              "      <td>1.3216</td>\n",
              "      <td>0.94353</td>\n",
              "      <td>0.80566</td>\n",
              "      <td>115.42</td>\n",
              "      <td>1.3637</td>\n",
              "      <td>6.8905</td>\n",
              "    </tr>\n",
              "    <tr>\n",
              "      <th>3</th>\n",
              "      <td>2457760</td>\n",
              "      <td>2017/01/06</td>\n",
              "      <td>Fri</td>\n",
              "      <td>1.3216</td>\n",
              "      <td>0.94704</td>\n",
              "      <td>0.81214</td>\n",
              "      <td>116.85</td>\n",
              "      <td>1.3692</td>\n",
              "      <td>6.9194</td>\n",
              "    </tr>\n",
              "    <tr>\n",
              "      <th>4</th>\n",
              "      <td>2457763</td>\n",
              "      <td>2017/01/09</td>\n",
              "      <td>Mon</td>\n",
              "      <td>1.3222</td>\n",
              "      <td>0.94558</td>\n",
              "      <td>0.82201</td>\n",
              "      <td>116.08</td>\n",
              "      <td>1.3582</td>\n",
              "      <td>6.9370</td>\n",
              "    </tr>\n",
              "  </tbody>\n",
              "</table>\n",
              "</div>"
            ],
            "text/plain": [
              "   Jul.Day  YYYY/MM/DD  Wdy  CAD/USD  ...  GBP/USD  JPY/USD  AUD/USD  CNY/USD\n",
              "0  2457757  2017/01/03  Tue   1.3438  ...  0.81596   117.67   1.3831   6.9627\n",
              "1  2457758  2017/01/04  Wed   1.3293  ...  0.81328   117.43   1.3755   6.9343\n",
              "2  2457759  2017/01/05  Thu   1.3216  ...  0.80566   115.42   1.3637   6.8905\n",
              "3  2457760  2017/01/06  Fri   1.3216  ...  0.81214   116.85   1.3692   6.9194\n",
              "4  2457763  2017/01/09  Mon   1.3222  ...  0.82201   116.08   1.3582   6.9370\n",
              "\n",
              "[5 rows x 9 columns]"
            ]
          },
          "metadata": {},
          "execution_count": 4
        }
      ]
    },
    {
      "cell_type": "code",
      "metadata": {
        "colab": {
          "base_uri": "https://localhost:8080/",
          "height": 386
        },
        "id": "uAYTwR62EfKi",
        "outputId": "f8a4a438-1a11-4721-8e17-dcdc1346284b"
      },
      "source": [
        "training_set = training_set.iloc[:,3:9].values\n",
        "print(training_set)\n",
        "plt.plot(training_set, label = 'Data')\n",
        "plt.show()"
      ],
      "execution_count": 5,
      "outputs": [
        {
          "output_type": "stream",
          "name": "stdout",
          "text": [
            "[[  1.3438    0.96013   0.81596 117.67      1.3831    6.9627 ]\n",
            " [  1.3293    0.95461   0.81328 117.43      1.3755    6.9343 ]\n",
            " [  1.3216    0.94353   0.80566 115.42      1.3637    6.8905 ]\n",
            " ...\n",
            " [  1.2806    0.81629   0.74092 103.61      1.3137    6.5303 ]\n",
            " [  1.2769    0.81378   0.73499 103.23      1.3026    6.5248 ]\n",
            " [  1.2732    0.81573   0.73252 103.09      1.2946    6.5326 ]]\n"
          ]
        },
        {
          "output_type": "display_data",
          "data": {
            "image/png": "[encoded data removed]",
            "text/plain": [
              "<Figure size 432x288 with 1 Axes>"
            ]
          },
          "metadata": {
            "needs_background": "light"
          }
        }
      ]
    },
    {
      "cell_type": "markdown",
      "metadata": {
        "id": "NabsV8O5BBd5"
      },
      "source": [
        "## Dataloading"
      ]
    },
    {
      "cell_type": "code",
      "metadata": {
        "id": "vIWvJCpOVmwU"
      },
      "source": [
        "def scaling_window(data, seq_length):\n",
        "    x = []\n",
        "    y = []\n",
        "\n",
        "    for i in range(len(data)-seq_length-1):\n",
        "        _x = data[i:(i+seq_length)]\n",
        "        _y = data[i+seq_length][3]\n",
        "        x.append(_x)\n",
        "        y.append(_y)\n",
        "\n",
        "    return np.array(x),np.array(y)\n",
        "\n",
        "def inverse_transform(x, max_value, min_value):\n",
        "    x = x*(max_value - min_value) + min_value\n",
        "    return x\n",
        "    \n",
        "sc = MinMaxScaler()\n",
        "training_data = sc.fit_transform(training_set)\n",
        "\n",
        "dataY_max = training_set[:, 3].max()\n",
        "dataY_min = training_set[:, 3].min()\n",
        "\n",
        "seq_length = 10\n",
        "x, y = scaling_window(training_data, seq_length)\n",
        "\n",
        "train_size = int(len(y) * 0.67)\n",
        "test_size = len(y) - train_size\n",
        "\n",
        "dataX = Variable(torch.Tensor(np.array(x)))\n",
        "dataY = Variable(torch.Tensor(np.array(y)).view(-1,1))\n",
        "\n",
        "trainX = Variable(torch.Tensor(np.array(x[0:train_size])))\n",
        "trainY = Variable(torch.Tensor(np.array(y[0:train_size])).view(-1, 1))\n",
        "\n",
        "testX = Variable(torch.Tensor(np.array(x[train_size:len(x)])))\n",
        "testY = Variable(torch.Tensor(np.array(y[train_size:len(y)])).view(-1, 1))"
      ],
      "execution_count": 6,
      "outputs": []
    },
    {
      "cell_type": "markdown",
      "metadata": {
        "id": "--1LVbHOBSIy"
      },
      "source": [
        "## Model"
      ]
    },
    {
      "cell_type": "code",
      "metadata": {
        "id": "_BcDEjcABRVz"
      },
      "source": [
        "class LSTM(nn.Module):\n",
        "\n",
        "    def __init__(self, num_classes, input_size, hidden_size, num_layers):\n",
        "        super(LSTM, self).__init__()\n",
        "        \n",
        "        self.num_classes = num_classes\n",
        "        self.num_layers = num_layers\n",
        "        self.input_size = input_size\n",
        "        self.hidden_size = hidden_size\n",
        "        self.seq_length = seq_length\n",
        "        \n",
        "        self.fc1 = nn.Linear(input_size, num_classes)\n",
        "        self.lstm = nn.LSTM(input_size=1, hidden_size=hidden_size,\n",
        "                            num_layers=num_layers, batch_first=True)\n",
        "        \n",
        "        self.fc2 = nn.Linear(hidden_size, num_classes)\n",
        "\n",
        "    def forward(self, x):\n",
        "        h_0 = Variable(torch.zeros(\n",
        "            self.num_layers, x.size(0), self.hidden_size))\n",
        "        c_0 = Variable(torch.zeros(\n",
        "            self.num_layers, x.size(0), self.hidden_size))\n",
        "        \n",
        "        # Propagate input through LSTM\n",
        "        x_1 = self.fc1(x)\n",
        "        ula, (h_out, _) = self.lstm(x_1, (h_0, c_0))\n",
        "        h_out = h_out.view(-1, self.hidden_size)\n",
        "        out = self.fc2(h_out)\n",
        "        \n",
        "        return out"
      ],
      "execution_count": 7,
      "outputs": []
    },
    {
      "cell_type": "markdown",
      "metadata": {
        "id": "tdzFI5GJBUF5"
      },
      "source": [
        "## Training"
      ]
    },
    {
      "cell_type": "code",
      "metadata": {
        "colab": {
          "base_uri": "https://localhost:8080/"
        },
        "id": "a2vvHeFgVtCp",
        "outputId": "c43c1592-da25-4afa-d614-214a88507e0e"
      },
      "source": [
        "# Parameter setting \n",
        "num_epochs = 2000\n",
        "p_interval = num_epochs / 20\n",
        "learning_rate = 0.01\n",
        "\n",
        "input_size = 6\n",
        "hidden_size = 16\n",
        "num_layers = 1\n",
        "\n",
        "num_classes = 1\n",
        "\n",
        "lstm = LSTM(num_classes, input_size, hidden_size, num_layers)\n",
        "\n",
        "criterion = torch.nn.MSELoss()    # mean-squared error for regression\n",
        "optimizer = torch.optim.Adam(lstm.parameters(), lr=learning_rate)\n",
        "#optimizer = torch.optim.SGD(lstm.parameters(), lr=learning_rate)\n",
        "history = np.zeros((0, 2))\n",
        "\n",
        "# Train the model\n",
        "for epoch in range(num_epochs):\n",
        "    outputs = lstm(trainX)\n",
        "    optimizer.zero_grad()\n",
        "    # obtain the loss function\n",
        "    loss = criterion(outputs, trainY)\n",
        "    \n",
        "    loss.backward()\n",
        "    \n",
        "    optimizer.step()\n",
        "    if (epoch + 1) % p_interval == 0:\n",
        "      item = np.array([epoch, loss.item()])\n",
        "      history = np.vstack((history, item))\n",
        "      print(\"Epoch: %d, loss: %1.5f\" % (epoch+1, loss.item()))"
      ],
      "execution_count": 28,
      "outputs": [
        {
          "output_type": "stream",
          "name": "stdout",
          "text": [
            "Epoch: 100, loss: 0.01626\n",
            "Epoch: 200, loss: 0.00230\n",
            "Epoch: 300, loss: 0.00157\n",
            "Epoch: 400, loss: 0.00122\n",
            "Epoch: 500, loss: 0.00109\n",
            "Epoch: 600, loss: 0.00102\n",
            "Epoch: 700, loss: 0.00097\n",
            "Epoch: 800, loss: 0.00092\n",
            "Epoch: 900, loss: 0.00089\n",
            "Epoch: 1000, loss: 0.00087\n",
            "Epoch: 1100, loss: 0.00085\n",
            "Epoch: 1200, loss: 0.00083\n",
            "Epoch: 1300, loss: 0.00083\n",
            "Epoch: 1400, loss: 0.00082\n",
            "Epoch: 1500, loss: 0.00082\n",
            "Epoch: 1600, loss: 0.00082\n",
            "Epoch: 1700, loss: 0.00083\n",
            "Epoch: 1800, loss: 0.00082\n",
            "Epoch: 1900, loss: 0.00082\n",
            "Epoch: 2000, loss: 0.00082\n"
          ]
        }
      ]
    },
    {
      "cell_type": "code",
      "metadata": {
        "colab": {
          "base_uri": "https://localhost:8080/",
          "height": 312
        },
        "id": "fYNLWR09WKmj",
        "outputId": "4d9e49df-59a4-4657-f281-d9f8847524a4"
      },
      "source": [
        "#Valuation of loss\n",
        "plt.title('Loss')\n",
        "plt.xlabel('epoch')\n",
        "plt.ylabel('loss')\n",
        "plt.xticks(np.arange(0, 2001, step=500))\n",
        "plt.ylim(0,0.02)\n",
        "plt.plot(history[:,0], history[:,1], 'r-')"
      ],
      "execution_count": 48,
      "outputs": [
        {
          "output_type": "execute_result",
          "data": {
            "text/plain": [
              "[<matplotlib.lines.Line2D at 0x7f157634b850>]"
            ]
          },
          "metadata": {},
          "execution_count": 48
        },
        {
          "output_type": "display_data",
          "data": {
            "image/png": "[encoded data removed]",
            "text/plain": [
              "<Figure size 432x288 with 1 Axes>"
            ]
          },
          "metadata": {
            "needs_background": "light"
          }
        }
      ]
    },
    {
      "cell_type": "markdown",
      "metadata": {
        "id": "GyJ-Ry9_BWvP"
      },
      "source": [
        "## Testing for Currency (6 pairs)  Dataset"
      ]
    },
    {
      "cell_type": "code",
      "metadata": {
        "colab": {
          "base_uri": "https://localhost:8080/",
          "height": 294
        },
        "id": "jFrPVG5sesWY",
        "outputId": "068e0271-e493-41f9-8f86-01885007b286"
      },
      "source": [
        "lstm.eval()\n",
        "train_predict = lstm(dataX)\n",
        "\n",
        "data_predict = train_predict.data.numpy()\n",
        "dataY_plot = dataY.data.numpy()\n",
        "\n",
        "data_predict = inverse_transform(data_predict, dataY_max, dataY_min)\n",
        "dataY_plot   = inverse_transform(dataY_plot, dataY_max, dataY_min)\n",
        "\n",
        "plt.axvline(x=train_size, c='r', linestyle='--')\n",
        "\n",
        "plt.plot(dataY_plot)\n",
        "plt.plot(data_predict)\n",
        "plt.suptitle('Time-Series Prediction')\n",
        "plt.show()"
      ],
      "execution_count": 9,
      "outputs": [
        {
          "output_type": "display_data",
          "data": {
            "image/png": "[encoded data removed]",
            "text/plain": [
              "<Figure size 432x288 with 1 Axes>"
            ]
          },
          "metadata": {
            "needs_background": "light"
          }
        }
      ]
    },
    {
      "cell_type": "code",
      "metadata": {
        "id": "T6apMdpdU0Op"
      },
      "source": [
        ""
      ],
      "execution_count": null,
      "outputs": []
    }
  ]
}
